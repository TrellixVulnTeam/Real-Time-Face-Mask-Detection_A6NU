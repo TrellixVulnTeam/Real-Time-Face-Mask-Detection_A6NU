{
 "cells": [
  {
   "cell_type": "code",
   "execution_count": 1,
   "id": "6c737abe",
   "metadata": {},
   "outputs": [
    {
     "name": "stdout",
     "output_type": "stream",
     "text": [
      "Directory already exist, images will be written in same folder\n",
      ".gitkeep is not converted\n"
     ]
    }
   ],
   "source": [
    "import cv2\n",
    "\n",
    "import os,glob\n",
    "\n",
    "from os import listdir,makedirs\n",
    "\n",
    "from os.path import isfile,join\n",
    "path = 'C:\\\\Users\\\\cdeep\\\\python\\\\projects\\\\mask2\\\\RealTimeObjectDetection\\\\Tensorflow\\\\workspace\\\\images\\\\mask2' # Source Folder\n",
    "dstpath = 'C:\\\\Users\\\\cdeep\\\\python\\\\projects\\\\mask2\\\\RealTimeObjectDetection\\\\Tensorflow\\\\workspace\\\\images\\\\mask2_gray' # Destination Folder\n",
    "try:\n",
    "    makedirs(dstpath)\n",
    "except:\n",
    "    print (\"Directory already exist, images will be written in same folder\")\n",
    "# Folder won't used\n",
    "files = list(filter(lambda f: isfile(join(path,f)), listdir(path)))\n",
    "for image in files:\n",
    "    try:\n",
    "        img = cv2.imread(os.path.join(path,image))\n",
    "        gray = cv2.cvtColor(img,cv2.COLOR_BGR2GRAY)\n",
    "        dstPath = join(dstpath,image)\n",
    "        cv2.imwrite(dstPath,gray)\n",
    "    except:\n",
    "        print (\"{} is not converted\".format(image))\n",
    "for fil in glob.glob(\"*.jpg\"):\n",
    "    try:\n",
    "        image = cv2.imread(fil) \n",
    "        gray_image = cv2.cvtColor(os.path.join(path,image), cv2.COLOR_BGR2GRAY) # convert to greyscale\n",
    "        cv2.imwrite(os.path.join(dstpath,fil),gray_image)\n",
    "    except:\n",
    "        print('{} is not converted')"
   ]
  },
  {
   "cell_type": "code",
   "execution_count": null,
   "id": "887617d2",
   "metadata": {},
   "outputs": [],
   "source": []
  }
 ],
 "metadata": {
  "kernelspec": {
   "display_name": "Python 3 (ipykernel)",
   "language": "python",
   "name": "python3"
  },
  "language_info": {
   "codemirror_mode": {
    "name": "ipython",
    "version": 3
   },
   "file_extension": ".py",
   "mimetype": "text/x-python",
   "name": "python",
   "nbconvert_exporter": "python",
   "pygments_lexer": "ipython3",
   "version": "3.9.12"
  }
 },
 "nbformat": 4,
 "nbformat_minor": 5
}
